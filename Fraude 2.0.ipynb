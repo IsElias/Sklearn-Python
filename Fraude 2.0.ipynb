{
 "cells": [
  {
   "cell_type": "code",
   "execution_count": 1,
   "id": "8a2f3898",
   "metadata": {},
   "outputs": [],
   "source": [
    "import pandas as pd\n",
    "from sklearn.metrics import confusion_matrix\n",
    "from sklearn import metrics\n",
    "from sklearn.model_selection import GridSearchCV"
   ]
  },
  {
   "cell_type": "code",
   "execution_count": 2,
   "id": "8e6c2d31",
   "metadata": {},
   "outputs": [],
   "source": [
    "base = pd.read_csv('creditcard.csv')"
   ]
  },
  {
   "cell_type": "code",
   "execution_count": 3,
   "id": "a26c9f18",
   "metadata": {},
   "outputs": [],
   "source": [
    "base.Amount = base.Amount / base.Amount.max()\n",
    "base.Time = base.Time / base.Time.max()"
   ]
  },
  {
   "cell_type": "code",
   "execution_count": 4,
   "id": "4f170478",
   "metadata": {},
   "outputs": [],
   "source": [
    "X = base.drop('Class',axis=1)\n",
    "y = base.Class"
   ]
  },
  {
   "cell_type": "code",
   "execution_count": 5,
   "id": "74e0c61c",
   "metadata": {},
   "outputs": [],
   "source": [
    "from sklearn.model_selection import train_test_split\n",
    "\n",
    "X_train, X_test, y_train, y_test = train_test_split(X, y, test_size = 0.33, random_state=22, stratify = y)"
   ]
  },
  {
   "cell_type": "markdown",
   "id": "423fae96",
   "metadata": {},
   "source": [
    "## UNDER SAMPLER"
   ]
  },
  {
   "cell_type": "code",
   "execution_count": 6,
   "id": "55b346ab",
   "metadata": {},
   "outputs": [],
   "source": [
    "from imblearn.under_sampling import RandomUnderSampler\n",
    "rus = RandomUnderSampler(random_state=22)\n",
    "X_res_under, y_res_under = rus.fit_resample(X_train, y_train)"
   ]
  },
  {
   "cell_type": "code",
   "execution_count": 7,
   "id": "1139609b",
   "metadata": {},
   "outputs": [],
   "source": [
    "from sklearn.linear_model import LogisticRegression\n",
    "clf_RL = LogisticRegression(random_state=22).fit(X_res_under, y_res_under)\n",
    "y_pred_RL = clf_RL.predict(X_test)\n",
    "y_pred_proba_RL = clf_RL.predict_proba(X_test)[:,1]"
   ]
  },
  {
   "cell_type": "code",
   "execution_count": 8,
   "id": "453fb596",
   "metadata": {},
   "outputs": [],
   "source": [
    "precision_RL, recall_RL, thresholds_RL = metrics.precision_recall_curve(y_test, y_pred_RL)"
   ]
  },
  {
   "cell_type": "code",
   "execution_count": 9,
   "id": "384b1dcf",
   "metadata": {},
   "outputs": [
    {
     "name": "stdout",
     "output_type": "stream",
     "text": [
      "0.4782144609062044\n"
     ]
    }
   ],
   "source": [
    "print(metrics.auc(recall_RL,precision_RL))"
   ]
  },
  {
   "cell_type": "code",
   "execution_count": 10,
   "id": "d703dbec",
   "metadata": {},
   "outputs": [],
   "source": [
    "from sklearn.metrics import recall_score"
   ]
  },
  {
   "cell_type": "code",
   "execution_count": 11,
   "id": "e018788c",
   "metadata": {},
   "outputs": [
    {
     "data": {
      "text/plain": [
       "0.9197530864197531"
      ]
     },
     "execution_count": 11,
     "metadata": {},
     "output_type": "execute_result"
    }
   ],
   "source": [
    "recall_score(y_test, y_pred_RL)"
   ]
  },
  {
   "cell_type": "code",
   "execution_count": 12,
   "id": "faabfbb1",
   "metadata": {},
   "outputs": [
    {
     "data": {
      "text/plain": [
       "array([[89896,  3929],\n",
       "       [   13,   149]], dtype=int64)"
      ]
     },
     "execution_count": 12,
     "metadata": {},
     "output_type": "execute_result"
    }
   ],
   "source": [
    "confusion_matrix(y_test, y_pred_RL)"
   ]
  },
  {
   "cell_type": "markdown",
   "id": "80f6832f",
   "metadata": {},
   "source": [
    "## CLUSTER CENTROIDS"
   ]
  },
  {
   "cell_type": "code",
   "execution_count": 13,
   "id": "ed52454d",
   "metadata": {},
   "outputs": [
    {
     "name": "stderr",
     "output_type": "stream",
     "text": [
      "C:\\Users\\Isac\\anaconda3\\lib\\site-packages\\sklearn\\cluster\\_kmeans.py:870: FutureWarning: The default value of `n_init` will change from 10 to 'auto' in 1.4. Set the value of `n_init` explicitly to suppress the warning\n",
      "  warnings.warn(\n"
     ]
    }
   ],
   "source": [
    "from imblearn.under_sampling import ClusterCentroids\n",
    "cc = ClusterCentroids(random_state=42)\n",
    "X_resCC, y_resCC = cc.fit_resample(X_train, y_train)"
   ]
  },
  {
   "cell_type": "code",
   "execution_count": 14,
   "id": "19d825ef",
   "metadata": {},
   "outputs": [
    {
     "data": {
      "text/plain": [
       "array([[87059,  6766],\n",
       "       [   14,   148]], dtype=int64)"
      ]
     },
     "execution_count": 14,
     "metadata": {},
     "output_type": "execute_result"
    }
   ],
   "source": [
    "# SVC\n",
    "\n",
    "from sklearn.svm import SVC\n",
    "\n",
    "parametros = {\n",
    "    'C': [0.01, 0.1, 0.2, 0.5,1, 10, 20,50],\n",
    "    'kernel': ['linear', 'poly', 'rbf', 'sigmoid'],\n",
    "    'gamma': ['scale', 'auto' ]\n",
    "}\n",
    "\n",
    "SVC_GS = SVC(random_state=0,probability=True)\n",
    "clf_GS = GridSearchCV(SVC_GS, parametros, scoring = 'recall').fit(X_resCC, y_resCC)\n",
    "y_pred_GS = clf_GS.predict(X_test)\n",
    "confusion_matrix(y_test, y_pred_GS)"
   ]
  },
  {
   "cell_type": "code",
   "execution_count": 15,
   "id": "f31c8b2f",
   "metadata": {},
   "outputs": [
    {
     "data": {
      "text/plain": [
       "0.9135802469135802"
      ]
     },
     "execution_count": 15,
     "metadata": {},
     "output_type": "execute_result"
    }
   ],
   "source": [
    "metrics.recall_score(y_test, y_pred_GS)"
   ]
  },
  {
   "cell_type": "code",
   "execution_count": 16,
   "id": "6a6aa0e6",
   "metadata": {},
   "outputs": [
    {
     "data": {
      "text/plain": [
       "array([[68807, 25018],\n",
       "       [    8,   154]], dtype=int64)"
      ]
     },
     "execution_count": 16,
     "metadata": {},
     "output_type": "execute_result"
    }
   ],
   "source": [
    "# RANDOM FOREST\n",
    "\n",
    "from sklearn.ensemble import RandomForestClassifier\n",
    "RF_GS = RandomForestClassifier(random_state=0)\n",
    "\n",
    "parametros = {\n",
    "#     'n_estimators' : [200,220, 300,500],\n",
    "    'criterion' : ['gini', 'entropy', 'log_loss'],\n",
    "    'max_depth' : [3,5,7,8,9,10,11,22]\n",
    "}\n",
    "\n",
    "clf_GS_FO = GridSearchCV(RF_GS, parametros, scoring = 'recall').fit(X_resCC, y_resCC)\n",
    "y_pred_GS_FO = clf_GS_FO.predict(X_test)\n",
    "confusion_matrix(y_test, y_pred_GS_FO)"
   ]
  },
  {
   "cell_type": "code",
   "execution_count": 17,
   "id": "d3e57cdc",
   "metadata": {},
   "outputs": [
    {
     "data": {
      "text/plain": [
       "0.9506172839506173"
      ]
     },
     "execution_count": 17,
     "metadata": {},
     "output_type": "execute_result"
    }
   ],
   "source": [
    "metrics.recall_score(y_test, y_pred_GS_FO)"
   ]
  },
  {
   "cell_type": "code",
   "execution_count": null,
   "id": "64a564f4",
   "metadata": {},
   "outputs": [],
   "source": []
  },
  {
   "cell_type": "markdown",
   "id": "25784423",
   "metadata": {},
   "source": [
    "## NEAR MISS"
   ]
  },
  {
   "cell_type": "code",
   "execution_count": null,
   "id": "7ffb8b77",
   "metadata": {},
   "outputs": [],
   "source": []
  },
  {
   "cell_type": "code",
   "execution_count": null,
   "id": "009a5afc",
   "metadata": {},
   "outputs": [],
   "source": []
  },
  {
   "cell_type": "code",
   "execution_count": 18,
   "id": "559c4e83",
   "metadata": {},
   "outputs": [],
   "source": [
    "import warnings\n",
    "warnings.filterwarnings('ignore')"
   ]
  },
  {
   "cell_type": "markdown",
   "id": "7e0c26fb",
   "metadata": {},
   "source": [
    "## GRIDSEARCH CV"
   ]
  },
  {
   "cell_type": "code",
   "execution_count": 19,
   "id": "3aa2b90e",
   "metadata": {},
   "outputs": [],
   "source": [
    "from sklearn.model_selection import GridSearchCV"
   ]
  },
  {
   "cell_type": "code",
   "execution_count": 20,
   "id": "e34c0c6c",
   "metadata": {},
   "outputs": [],
   "source": [
    "parametros = {\n",
    "    'C': [0.1],\n",
    "    'solver': ['lbfgs', 'liblinear', 'newton-cg', 'newton-cholesky', 'sag', 'saga'],\n",
    "    'penalty': ['l1', 'l2', 'elasticnet', None],\n",
    "#     'max_iter': [220]\n",
    "}"
   ]
  },
  {
   "cell_type": "code",
   "execution_count": 21,
   "id": "0e8e0ddd",
   "metadata": {},
   "outputs": [],
   "source": [
    "from sklearn.linear_model import LogisticRegression\n",
    "LogReg = LogisticRegression(random_state=42)"
   ]
  },
  {
   "cell_type": "code",
   "execution_count": 22,
   "id": "658fa36c",
   "metadata": {},
   "outputs": [],
   "source": [
    "clf_GS = GridSearchCV(LogReg, parametros,scoring=['recall','precision'],refit='recall')"
   ]
  },
  {
   "cell_type": "code",
   "execution_count": 23,
   "id": "c5470d27",
   "metadata": {},
   "outputs": [],
   "source": [
    "clf_GS =  clf_GS.fit(X_res_under, y_res_under)"
   ]
  },
  {
   "cell_type": "code",
   "execution_count": 24,
   "id": "53577d7d",
   "metadata": {},
   "outputs": [
    {
     "data": {
      "text/plain": [
       "{'C': 0.1, 'penalty': None, 'solver': 'newton-cg'}"
      ]
     },
     "execution_count": 24,
     "metadata": {},
     "output_type": "execute_result"
    }
   ],
   "source": [
    "clf_GS.best_params_"
   ]
  },
  {
   "cell_type": "code",
   "execution_count": 25,
   "id": "93ece3cf",
   "metadata": {},
   "outputs": [],
   "source": [
    "y_pred_GS = clf_GS.predict(X_test)"
   ]
  },
  {
   "cell_type": "code",
   "execution_count": 26,
   "id": "3df381be",
   "metadata": {},
   "outputs": [
    {
     "data": {
      "text/plain": [
       "array([[87231,  6594],\n",
       "       [   10,   152]], dtype=int64)"
      ]
     },
     "execution_count": 26,
     "metadata": {},
     "output_type": "execute_result"
    }
   ],
   "source": [
    "confusion_matrix(y_test, y_pred_GS)"
   ]
  },
  {
   "cell_type": "code",
   "execution_count": 27,
   "id": "38a983db",
   "metadata": {},
   "outputs": [
    {
     "data": {
      "text/plain": [
       "0.022531870738215238"
      ]
     },
     "execution_count": 27,
     "metadata": {},
     "output_type": "execute_result"
    }
   ],
   "source": [
    "metrics.precision_score(y_test, y_pred_GS)"
   ]
  },
  {
   "cell_type": "code",
   "execution_count": 28,
   "id": "086420a4",
   "metadata": {},
   "outputs": [],
   "source": [
    "# metrics.recall_score(y_test, y_pred_GS)\n",
    "#0.9324324324324325"
   ]
  },
  {
   "cell_type": "code",
   "execution_count": 29,
   "id": "1655d36c",
   "metadata": {},
   "outputs": [
    {
     "data": {
      "text/plain": [
       "0.9382716049382716"
      ]
     },
     "execution_count": 29,
     "metadata": {},
     "output_type": "execute_result"
    }
   ],
   "source": [
    "metrics.recall_score(y_test, y_pred_GS)"
   ]
  },
  {
   "cell_type": "code",
   "execution_count": 30,
   "id": "fc1a6f68",
   "metadata": {},
   "outputs": [],
   "source": [
    "# pd.DataFrame(clf_GS.cv_results_)"
   ]
  },
  {
   "cell_type": "markdown",
   "id": "d430da42",
   "metadata": {},
   "source": [
    "## SUPPORT VECTOR MACHINE (SVC)"
   ]
  },
  {
   "cell_type": "code",
   "execution_count": 31,
   "id": "1d1c5955",
   "metadata": {},
   "outputs": [],
   "source": [
    "parametros = {\n",
    "    'C': [0.01, 0.1, 0.2, 0.5,1, 10, 20,50],\n",
    "    'kernel': ['linear', 'poly', 'rbf', 'sigmoid'],\n",
    "    'gamma': ['scale', 'auto' ]\n",
    "}"
   ]
  },
  {
   "cell_type": "code",
   "execution_count": 32,
   "id": "2bd4361a",
   "metadata": {},
   "outputs": [],
   "source": [
    "from sklearn.svm import SVC\n",
    "\n",
    "SVC_GS = SVC(random_state=0,probability=True)\n",
    "\n",
    "# y_pred_SVC = SVC_GS.predict(X_test)\n",
    "# y_pred_proba_SVC = clf_SVC.predict_proba(X_test)[:,1]"
   ]
  },
  {
   "cell_type": "code",
   "execution_count": 33,
   "id": "b86dca47",
   "metadata": {},
   "outputs": [],
   "source": [
    "clf_GS = GridSearchCV(SVC_GS, parametros, scoring = 'recall')"
   ]
  },
  {
   "cell_type": "code",
   "execution_count": 34,
   "id": "6a80eef3",
   "metadata": {},
   "outputs": [
    {
     "data": {
      "text/html": [
       "<style>#sk-container-id-1 {color: black;background-color: white;}#sk-container-id-1 pre{padding: 0;}#sk-container-id-1 div.sk-toggleable {background-color: white;}#sk-container-id-1 label.sk-toggleable__label {cursor: pointer;display: block;width: 100%;margin-bottom: 0;padding: 0.3em;box-sizing: border-box;text-align: center;}#sk-container-id-1 label.sk-toggleable__label-arrow:before {content: \"▸\";float: left;margin-right: 0.25em;color: #696969;}#sk-container-id-1 label.sk-toggleable__label-arrow:hover:before {color: black;}#sk-container-id-1 div.sk-estimator:hover label.sk-toggleable__label-arrow:before {color: black;}#sk-container-id-1 div.sk-toggleable__content {max-height: 0;max-width: 0;overflow: hidden;text-align: left;background-color: #f0f8ff;}#sk-container-id-1 div.sk-toggleable__content pre {margin: 0.2em;color: black;border-radius: 0.25em;background-color: #f0f8ff;}#sk-container-id-1 input.sk-toggleable__control:checked~div.sk-toggleable__content {max-height: 200px;max-width: 100%;overflow: auto;}#sk-container-id-1 input.sk-toggleable__control:checked~label.sk-toggleable__label-arrow:before {content: \"▾\";}#sk-container-id-1 div.sk-estimator input.sk-toggleable__control:checked~label.sk-toggleable__label {background-color: #d4ebff;}#sk-container-id-1 div.sk-label input.sk-toggleable__control:checked~label.sk-toggleable__label {background-color: #d4ebff;}#sk-container-id-1 input.sk-hidden--visually {border: 0;clip: rect(1px 1px 1px 1px);clip: rect(1px, 1px, 1px, 1px);height: 1px;margin: -1px;overflow: hidden;padding: 0;position: absolute;width: 1px;}#sk-container-id-1 div.sk-estimator {font-family: monospace;background-color: #f0f8ff;border: 1px dotted black;border-radius: 0.25em;box-sizing: border-box;margin-bottom: 0.5em;}#sk-container-id-1 div.sk-estimator:hover {background-color: #d4ebff;}#sk-container-id-1 div.sk-parallel-item::after {content: \"\";width: 100%;border-bottom: 1px solid gray;flex-grow: 1;}#sk-container-id-1 div.sk-label:hover label.sk-toggleable__label {background-color: #d4ebff;}#sk-container-id-1 div.sk-serial::before {content: \"\";position: absolute;border-left: 1px solid gray;box-sizing: border-box;top: 0;bottom: 0;left: 50%;z-index: 0;}#sk-container-id-1 div.sk-serial {display: flex;flex-direction: column;align-items: center;background-color: white;padding-right: 0.2em;padding-left: 0.2em;position: relative;}#sk-container-id-1 div.sk-item {position: relative;z-index: 1;}#sk-container-id-1 div.sk-parallel {display: flex;align-items: stretch;justify-content: center;background-color: white;position: relative;}#sk-container-id-1 div.sk-item::before, #sk-container-id-1 div.sk-parallel-item::before {content: \"\";position: absolute;border-left: 1px solid gray;box-sizing: border-box;top: 0;bottom: 0;left: 50%;z-index: -1;}#sk-container-id-1 div.sk-parallel-item {display: flex;flex-direction: column;z-index: 1;position: relative;background-color: white;}#sk-container-id-1 div.sk-parallel-item:first-child::after {align-self: flex-end;width: 50%;}#sk-container-id-1 div.sk-parallel-item:last-child::after {align-self: flex-start;width: 50%;}#sk-container-id-1 div.sk-parallel-item:only-child::after {width: 0;}#sk-container-id-1 div.sk-dashed-wrapped {border: 1px dashed gray;margin: 0 0.4em 0.5em 0.4em;box-sizing: border-box;padding-bottom: 0.4em;background-color: white;}#sk-container-id-1 div.sk-label label {font-family: monospace;font-weight: bold;display: inline-block;line-height: 1.2em;}#sk-container-id-1 div.sk-label-container {text-align: center;}#sk-container-id-1 div.sk-container {/* jupyter's `normalize.less` sets `[hidden] { display: none; }` but bootstrap.min.css set `[hidden] { display: none !important; }` so we also need the `!important` here to be able to override the default hidden behavior on the sphinx rendered scikit-learn.org. See: https://github.com/scikit-learn/scikit-learn/issues/21755 */display: inline-block !important;position: relative;}#sk-container-id-1 div.sk-text-repr-fallback {display: none;}</style><div id=\"sk-container-id-1\" class=\"sk-top-container\"><div class=\"sk-text-repr-fallback\"><pre>GridSearchCV(estimator=SVC(probability=True, random_state=0),\n",
       "             param_grid={&#x27;C&#x27;: [0.01, 0.1, 0.2, 0.5, 1, 10, 20, 50],\n",
       "                         &#x27;gamma&#x27;: [&#x27;scale&#x27;, &#x27;auto&#x27;],\n",
       "                         &#x27;kernel&#x27;: [&#x27;linear&#x27;, &#x27;poly&#x27;, &#x27;rbf&#x27;, &#x27;sigmoid&#x27;]},\n",
       "             scoring=&#x27;recall&#x27;)</pre><b>In a Jupyter environment, please rerun this cell to show the HTML representation or trust the notebook. <br />On GitHub, the HTML representation is unable to render, please try loading this page with nbviewer.org.</b></div><div class=\"sk-container\" hidden><div class=\"sk-item sk-dashed-wrapped\"><div class=\"sk-label-container\"><div class=\"sk-label sk-toggleable\"><input class=\"sk-toggleable__control sk-hidden--visually\" id=\"sk-estimator-id-1\" type=\"checkbox\" ><label for=\"sk-estimator-id-1\" class=\"sk-toggleable__label sk-toggleable__label-arrow\">GridSearchCV</label><div class=\"sk-toggleable__content\"><pre>GridSearchCV(estimator=SVC(probability=True, random_state=0),\n",
       "             param_grid={&#x27;C&#x27;: [0.01, 0.1, 0.2, 0.5, 1, 10, 20, 50],\n",
       "                         &#x27;gamma&#x27;: [&#x27;scale&#x27;, &#x27;auto&#x27;],\n",
       "                         &#x27;kernel&#x27;: [&#x27;linear&#x27;, &#x27;poly&#x27;, &#x27;rbf&#x27;, &#x27;sigmoid&#x27;]},\n",
       "             scoring=&#x27;recall&#x27;)</pre></div></div></div><div class=\"sk-parallel\"><div class=\"sk-parallel-item\"><div class=\"sk-item\"><div class=\"sk-label-container\"><div class=\"sk-label sk-toggleable\"><input class=\"sk-toggleable__control sk-hidden--visually\" id=\"sk-estimator-id-2\" type=\"checkbox\" ><label for=\"sk-estimator-id-2\" class=\"sk-toggleable__label sk-toggleable__label-arrow\">estimator: SVC</label><div class=\"sk-toggleable__content\"><pre>SVC(probability=True, random_state=0)</pre></div></div></div><div class=\"sk-serial\"><div class=\"sk-item\"><div class=\"sk-estimator sk-toggleable\"><input class=\"sk-toggleable__control sk-hidden--visually\" id=\"sk-estimator-id-3\" type=\"checkbox\" ><label for=\"sk-estimator-id-3\" class=\"sk-toggleable__label sk-toggleable__label-arrow\">SVC</label><div class=\"sk-toggleable__content\"><pre>SVC(probability=True, random_state=0)</pre></div></div></div></div></div></div></div></div></div></div>"
      ],
      "text/plain": [
       "GridSearchCV(estimator=SVC(probability=True, random_state=0),\n",
       "             param_grid={'C': [0.01, 0.1, 0.2, 0.5, 1, 10, 20, 50],\n",
       "                         'gamma': ['scale', 'auto'],\n",
       "                         'kernel': ['linear', 'poly', 'rbf', 'sigmoid']},\n",
       "             scoring='recall')"
      ]
     },
     "execution_count": 34,
     "metadata": {},
     "output_type": "execute_result"
    }
   ],
   "source": [
    "clf_GS.fit(X_res_under, y_res_under)"
   ]
  },
  {
   "cell_type": "code",
   "execution_count": 35,
   "id": "386bbc4d",
   "metadata": {},
   "outputs": [
    {
     "data": {
      "text/plain": [
       "{'C': 20, 'gamma': 'auto', 'kernel': 'rbf'}"
      ]
     },
     "execution_count": 35,
     "metadata": {},
     "output_type": "execute_result"
    }
   ],
   "source": [
    "clf_GS.best_params_"
   ]
  },
  {
   "cell_type": "code",
   "execution_count": 36,
   "id": "b6c9f2d8",
   "metadata": {},
   "outputs": [],
   "source": [
    "y_pred_GS = clf_GS.predict(X_test)"
   ]
  },
  {
   "cell_type": "code",
   "execution_count": 37,
   "id": "2318f6d8",
   "metadata": {},
   "outputs": [
    {
     "data": {
      "text/plain": [
       "array([[85961,  7864],\n",
       "       [   10,   152]], dtype=int64)"
      ]
     },
     "execution_count": 37,
     "metadata": {},
     "output_type": "execute_result"
    }
   ],
   "source": [
    "confusion_matrix(y_test, y_pred_GS)"
   ]
  },
  {
   "cell_type": "code",
   "execution_count": 38,
   "id": "a3c38806",
   "metadata": {},
   "outputs": [
    {
     "data": {
      "text/plain": [
       "0.9382716049382716"
      ]
     },
     "execution_count": 38,
     "metadata": {},
     "output_type": "execute_result"
    }
   ],
   "source": [
    "metrics.recall_score(y_test, y_pred_GS)"
   ]
  },
  {
   "cell_type": "markdown",
   "id": "2bcba6bd",
   "metadata": {},
   "source": [
    "## RANDOM FOREST"
   ]
  },
  {
   "cell_type": "code",
   "execution_count": 39,
   "id": "a7bb12d7",
   "metadata": {},
   "outputs": [],
   "source": [
    "from sklearn.ensemble import RandomForestClassifier\n",
    "RF_GS = RandomForestClassifier(random_state=0)"
   ]
  },
  {
   "cell_type": "code",
   "execution_count": 40,
   "id": "fef37b8a",
   "metadata": {},
   "outputs": [],
   "source": [
    "parametros = {\n",
    "#     'n_estimators' : [200,220, 300,500],\n",
    "    'criterion' : ['gini', 'entropy', 'log_loss'],\n",
    "    'max_depth' : [3,5,7,8,9,10,11,22]\n",
    "}"
   ]
  },
  {
   "cell_type": "code",
   "execution_count": 41,
   "id": "bff73ee5",
   "metadata": {},
   "outputs": [],
   "source": [
    "clf_GS_FO = GridSearchCV(RF_GS, parametros, scoring = 'recall')"
   ]
  },
  {
   "cell_type": "code",
   "execution_count": 42,
   "id": "77e1b73f",
   "metadata": {},
   "outputs": [],
   "source": [
    "clf_GS_FO = clf_GS_FO.fit(X_res_under, y_res_under)"
   ]
  },
  {
   "cell_type": "code",
   "execution_count": 43,
   "id": "11fbc732",
   "metadata": {},
   "outputs": [
    {
     "data": {
      "text/plain": [
       "{'criterion': 'gini', 'max_depth': 9}"
      ]
     },
     "execution_count": 43,
     "metadata": {},
     "output_type": "execute_result"
    }
   ],
   "source": [
    "clf_GS_FO.best_params_"
   ]
  },
  {
   "cell_type": "code",
   "execution_count": 44,
   "id": "9630eef7",
   "metadata": {},
   "outputs": [],
   "source": [
    "y_pred_GS_FO = clf_GS_FO.predict(X_test)"
   ]
  },
  {
   "cell_type": "code",
   "execution_count": 45,
   "id": "d10b8a81",
   "metadata": {},
   "outputs": [
    {
     "data": {
      "text/plain": [
       "array([[89956,  3869],\n",
       "       [   17,   145]], dtype=int64)"
      ]
     },
     "execution_count": 45,
     "metadata": {},
     "output_type": "execute_result"
    }
   ],
   "source": [
    "confusion_matrix(y_test, y_pred_GS_FO)"
   ]
  },
  {
   "cell_type": "code",
   "execution_count": 46,
   "id": "6e1e690a",
   "metadata": {},
   "outputs": [
    {
     "data": {
      "text/plain": [
       "0.8950617283950617"
      ]
     },
     "execution_count": 46,
     "metadata": {},
     "output_type": "execute_result"
    }
   ],
   "source": [
    "metrics.recall_score(y_test, y_pred_GS_FO)"
   ]
  },
  {
   "cell_type": "markdown",
   "id": "446226bb",
   "metadata": {},
   "source": [
    "## KNN"
   ]
  },
  {
   "cell_type": "code",
   "execution_count": 47,
   "id": "27c91611",
   "metadata": {},
   "outputs": [],
   "source": [
    "from sklearn.neighbors import KNeighborsClassifier\n",
    "KNN_gs = KNeighborsClassifier()"
   ]
  },
  {
   "cell_type": "code",
   "execution_count": 48,
   "id": "52016806",
   "metadata": {},
   "outputs": [],
   "source": [
    "parametros = {\n",
    "        'n_neighbors' : [3,5,7,9,11,21,77],\n",
    "        'algorithm': ['auto', 'ball_tree', 'kd_tree', 'brute']\n",
    "}"
   ]
  },
  {
   "cell_type": "code",
   "execution_count": 49,
   "id": "6d55445f",
   "metadata": {},
   "outputs": [],
   "source": [
    "clf_GS_knn = GridSearchCV(KNN_gs, parametros, scoring = 'recall')"
   ]
  },
  {
   "cell_type": "code",
   "execution_count": 50,
   "id": "0cf9fb35",
   "metadata": {},
   "outputs": [],
   "source": [
    "clf_GS_knn = clf_GS_knn.fit(X_res_under, y_res_under)"
   ]
  },
  {
   "cell_type": "code",
   "execution_count": 51,
   "id": "bccb461f",
   "metadata": {},
   "outputs": [
    {
     "data": {
      "text/plain": [
       "{'algorithm': 'auto', 'n_neighbors': 3}"
      ]
     },
     "execution_count": 51,
     "metadata": {},
     "output_type": "execute_result"
    }
   ],
   "source": [
    "clf_GS_knn.best_params_"
   ]
  },
  {
   "cell_type": "code",
   "execution_count": 52,
   "id": "cd383fc5",
   "metadata": {},
   "outputs": [],
   "source": [
    "y_pred_GS_knn = clf_GS_knn.predict(X_test)"
   ]
  },
  {
   "cell_type": "code",
   "execution_count": 53,
   "id": "39d34c81",
   "metadata": {},
   "outputs": [
    {
     "data": {
      "text/plain": [
       "array([[90837,  2988],\n",
       "       [   17,   145]], dtype=int64)"
      ]
     },
     "execution_count": 53,
     "metadata": {},
     "output_type": "execute_result"
    }
   ],
   "source": [
    "confusion_matrix(y_test, y_pred_GS_knn)"
   ]
  },
  {
   "cell_type": "code",
   "execution_count": 54,
   "id": "0bad1d20",
   "metadata": {},
   "outputs": [
    {
     "data": {
      "text/plain": [
       "0.8950617283950617"
      ]
     },
     "execution_count": 54,
     "metadata": {},
     "output_type": "execute_result"
    }
   ],
   "source": [
    "metrics.recall_score(y_test, y_pred_GS_knn)"
   ]
  },
  {
   "cell_type": "code",
   "execution_count": null,
   "id": "61a02db1",
   "metadata": {},
   "outputs": [],
   "source": []
  }
 ],
 "metadata": {
  "kernelspec": {
   "display_name": "Python 3 (ipykernel)",
   "language": "python",
   "name": "python3"
  },
  "language_info": {
   "codemirror_mode": {
    "name": "ipython",
    "version": 3
   },
   "file_extension": ".py",
   "mimetype": "text/x-python",
   "name": "python",
   "nbconvert_exporter": "python",
   "pygments_lexer": "ipython3",
   "version": "3.10.9"
  }
 },
 "nbformat": 4,
 "nbformat_minor": 5
}
